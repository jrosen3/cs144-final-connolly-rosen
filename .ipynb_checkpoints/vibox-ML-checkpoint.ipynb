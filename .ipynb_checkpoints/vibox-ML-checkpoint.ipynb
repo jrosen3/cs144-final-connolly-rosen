{
 "metadata": {
  "name": ""
 },
 "nbformat": 3,
 "nbformat_minor": 0,
 "worksheets": [
  {
   "cells": [
    {
     "cell_type": "code",
     "collapsed": false,
     "input": [
      "%matplotlib inline\n",
      "\n",
      "from sklearn import linear_model\n",
      "from sklearn import tree\n",
      "import sklearn\n",
      "import random\n",
      "\n",
      "import pandas as pd\n",
      "import numpy as np\n",
      "import math\n",
      "\n",
      "import pylab as pl\n",
      "\n",
      "import matplotlib.pyplot as plt\n",
      "from matplotlib import rcParams\n",
      "import matplotlib.cm as cm\n",
      "import matplotlib as mpl\n",
      "\n",
      "dark2_colors = [(0.10588235294117647, 0.6196078431372549, 0.4666666666666667),\n",
      "                (0.8509803921568627, 0.37254901960784315, 0.00784313725490196),\n",
      "                (0.4588235294117647, 0.4392156862745098, 0.7019607843137254),\n",
      "                (0.9058823529411765, 0.1607843137254902, 0.5411764705882353),\n",
      "                (0.4, 0.6509803921568628, 0.11764705882352941),\n",
      "                (0.9019607843137255, 0.6705882352941176, 0.00784313725490196),\n",
      "                (0.6509803921568628, 0.4627450980392157, 0.11372549019607843)]\n",
      "\n",
      "rcParams['figure.figsize'] = (10, 6)\n",
      "rcParams['figure.dpi'] = 150\n",
      "rcParams['axes.color_cycle'] = dark2_colors\n",
      "rcParams['lines.linewidth'] = 2\n",
      "rcParams['axes.facecolor'] = 'white'\n",
      "rcParams['font.size'] = 14\n",
      "rcParams['patch.edgecolor'] = 'white'\n",
      "rcParams['patch.facecolor'] = dark2_colors[0]\n",
      "rcParams['font.family'] = 'StixGeneral'\n",
      "\n",
      "def remove_border(axes=None, top=False, right=False, left=True, bottom=True):\n",
      "    \"\"\"\n",
      "    Minimize chartjunk by stripping out unnecesasry plot borders and axis ticks\n",
      "    \n",
      "    The top/right/left/bottom keywords toggle whether the corresponding plot border is drawn\n",
      "    \"\"\"\n",
      "    ax = axes or plt.gca()\n",
      "    ax.spines['top'].set_visible(top)\n",
      "    ax.spines['right'].set_visible(right)\n",
      "    ax.spines['left'].set_visible(left)\n",
      "    ax.spines['bottom'].set_visible(bottom)\n",
      "    \n",
      "    #turn off all ticks\n",
      "    ax.yaxis.set_ticks_position('none')\n",
      "    ax.xaxis.set_ticks_position('none')\n",
      "    \n",
      "    #now re-enable visibles\n",
      "    if top:\n",
      "        ax.xaxis.tick_top()\n",
      "    if bottom:\n",
      "        ax.xaxis.tick_bottom()\n",
      "    if left:\n",
      "        ax.yaxis.tick_left()\n",
      "    if right:\n",
      "        ax.yaxis.tick_right()"
     ],
     "language": "python",
     "metadata": {},
     "outputs": [],
     "prompt_number": 1
    },
    {
     "cell_type": "code",
     "collapsed": false,
     "input": [
      "df = pd.read_csv('data.csv')\n",
      "df.head()"
     ],
     "language": "python",
     "metadata": {},
     "outputs": [
      {
       "html": [
        "<div style=\"max-height:1000px;max-width:1500px;overflow:auto;\">\n",
        "<table border=\"1\" class=\"dataframe\">\n",
        "  <thead>\n",
        "    <tr style=\"text-align: right;\">\n",
        "      <th></th>\n",
        "      <th>datetime</th>\n",
        "      <th>temp</th>\n",
        "      <th>sound</th>\n",
        "      <th>motion</th>\n",
        "      <th>vibescore</th>\n",
        "    </tr>\n",
        "  </thead>\n",
        "  <tbody>\n",
        "    <tr>\n",
        "      <th>0</th>\n",
        "      <td> 2014-04-15 00:13:18</td>\n",
        "      <td> 23.81</td>\n",
        "      <td> 0.25</td>\n",
        "      <td> 0.09</td>\n",
        "      <td> 0.01</td>\n",
        "    </tr>\n",
        "    <tr>\n",
        "      <th>1</th>\n",
        "      <td> 2014-04-15 00:19:32</td>\n",
        "      <td> 22.81</td>\n",
        "      <td> 0.11</td>\n",
        "      <td> 0.12</td>\n",
        "      <td> 0.07</td>\n",
        "    </tr>\n",
        "    <tr>\n",
        "      <th>2</th>\n",
        "      <td> 2014-04-15 00:20:18</td>\n",
        "      <td> 21.33</td>\n",
        "      <td> 0.14</td>\n",
        "      <td> 0.30</td>\n",
        "      <td> 0.20</td>\n",
        "    </tr>\n",
        "    <tr>\n",
        "      <th>3</th>\n",
        "      <td> 2014-04-15 00:43:32</td>\n",
        "      <td> 20.18</td>\n",
        "      <td> 0.20</td>\n",
        "      <td> 0.26</td>\n",
        "      <td> 0.18</td>\n",
        "    </tr>\n",
        "    <tr>\n",
        "      <th>4</th>\n",
        "      <td> 2014-04-18 17:58:54</td>\n",
        "      <td> 21.48</td>\n",
        "      <td> 0.89</td>\n",
        "      <td> 0.10</td>\n",
        "      <td> 0.68</td>\n",
        "    </tr>\n",
        "  </tbody>\n",
        "</table>\n",
        "</div>"
       ],
       "metadata": {},
       "output_type": "pyout",
       "prompt_number": 2,
       "text": [
        "              datetime   temp  sound  motion  vibescore\n",
        "0  2014-04-15 00:13:18  23.81   0.25    0.09       0.01\n",
        "1  2014-04-15 00:19:32  22.81   0.11    0.12       0.07\n",
        "2  2014-04-15 00:20:18  21.33   0.14    0.30       0.20\n",
        "3  2014-04-15 00:43:32  20.18   0.20    0.26       0.18\n",
        "4  2014-04-18 17:58:54  21.48   0.89    0.10       0.68"
       ]
      }
     ],
     "prompt_number": 2
    },
    {
     "cell_type": "code",
     "collapsed": false,
     "input": [],
     "language": "python",
     "metadata": {},
     "outputs": [],
     "prompt_number": 2
    },
    {
     "cell_type": "code",
     "collapsed": false,
     "input": [
      "df['class'] = None\n",
      "df['class'][df['vibescore'] <= 0.4] = 0\n",
      "df['class'][(df['vibescore'] > 0.4) & (df['vibescore'] < 0.6)] = 1\n",
      "df['class'][df['vibescore'] >= 0.6] = 2\n",
      "\n",
      "df.head()"
     ],
     "language": "python",
     "metadata": {},
     "outputs": [
      {
       "html": [
        "<div style=\"max-height:1000px;max-width:1500px;overflow:auto;\">\n",
        "<table border=\"1\" class=\"dataframe\">\n",
        "  <thead>\n",
        "    <tr style=\"text-align: right;\">\n",
        "      <th></th>\n",
        "      <th>datetime</th>\n",
        "      <th>temp</th>\n",
        "      <th>sound</th>\n",
        "      <th>motion</th>\n",
        "      <th>vibescore</th>\n",
        "      <th>class</th>\n",
        "    </tr>\n",
        "  </thead>\n",
        "  <tbody>\n",
        "    <tr>\n",
        "      <th>0</th>\n",
        "      <td> 2014-04-15 00:13:18</td>\n",
        "      <td> 23.81</td>\n",
        "      <td> 0.25</td>\n",
        "      <td> 0.09</td>\n",
        "      <td> 0.01</td>\n",
        "      <td> 0</td>\n",
        "    </tr>\n",
        "    <tr>\n",
        "      <th>1</th>\n",
        "      <td> 2014-04-15 00:19:32</td>\n",
        "      <td> 22.81</td>\n",
        "      <td> 0.11</td>\n",
        "      <td> 0.12</td>\n",
        "      <td> 0.07</td>\n",
        "      <td> 0</td>\n",
        "    </tr>\n",
        "    <tr>\n",
        "      <th>2</th>\n",
        "      <td> 2014-04-15 00:20:18</td>\n",
        "      <td> 21.33</td>\n",
        "      <td> 0.14</td>\n",
        "      <td> 0.30</td>\n",
        "      <td> 0.20</td>\n",
        "      <td> 0</td>\n",
        "    </tr>\n",
        "    <tr>\n",
        "      <th>3</th>\n",
        "      <td> 2014-04-15 00:43:32</td>\n",
        "      <td> 20.18</td>\n",
        "      <td> 0.20</td>\n",
        "      <td> 0.26</td>\n",
        "      <td> 0.18</td>\n",
        "      <td> 0</td>\n",
        "    </tr>\n",
        "    <tr>\n",
        "      <th>4</th>\n",
        "      <td> 2014-04-18 17:58:54</td>\n",
        "      <td> 21.48</td>\n",
        "      <td> 0.89</td>\n",
        "      <td> 0.10</td>\n",
        "      <td> 0.68</td>\n",
        "      <td> 2</td>\n",
        "    </tr>\n",
        "  </tbody>\n",
        "</table>\n",
        "</div>"
       ],
       "metadata": {},
       "output_type": "pyout",
       "prompt_number": 3,
       "text": [
        "              datetime   temp  sound  motion  vibescore class\n",
        "0  2014-04-15 00:13:18  23.81   0.25    0.09       0.01     0\n",
        "1  2014-04-15 00:19:32  22.81   0.11    0.12       0.07     0\n",
        "2  2014-04-15 00:20:18  21.33   0.14    0.30       0.20     0\n",
        "3  2014-04-15 00:43:32  20.18   0.20    0.26       0.18     0\n",
        "4  2014-04-18 17:58:54  21.48   0.89    0.10       0.68     2"
       ]
      }
     ],
     "prompt_number": 3
    },
    {
     "cell_type": "code",
     "collapsed": false,
     "input": [
      "plt.hist(df.temp, bins=math.sqrt(len(df)))\n",
      "remove_border()"
     ],
     "language": "python",
     "metadata": {},
     "outputs": [
      {
       "metadata": {},
       "output_type": "display_data",
       "png": "[encoded data removed]",
       "text": [
        "<matplotlib.figure.Figure at 0x103368dd0>"
       ]
      }
     ],
     "prompt_number": 4
    },
    {
     "cell_type": "code",
     "collapsed": false,
     "input": [
      "for i in set(df['class'].values):\n",
      "    vs = np.random.normal( df['vibescore'][df['class'] == i].mean(), df['vibescore'][df['class'] == i].std(), 1000)\n",
      "    vs = [1 if n > 1 else n for n in vs]\n",
      "    vs = [0 if n < 0 else n for n in vs]\n",
      "    t = np.random.normal( df['temp'][df['class'] == i].mean(), df['temp'][df['class'] == i].std(), 1000)\n",
      "    s = np.random.normal( df['sound'][df['class'] == i].mean(), df['sound'][df['class'] == i].std(), 1000)\n",
      "    s = [n if n > 0 else 0 for n in s]\n",
      "    m = np.random.normal( df['motion'][df['class'] == i].mean(), df['motion'][df['class'] == i].std(), 1000)\n",
      "    m = [1 if n > 1 else n for n in m]\n",
      "    m = [0 if n < 0 else n for n in m]\n",
      "    tdf = pd.DataFrame({'temp':t, 'sound':s, 'motion':m, 'class':None, 'vibescore':vs, 'datetime':None})\n",
      "    df = pd.concat([df, tdf], axis=0, join='outer', join_axes=None, ignore_index=False)\n",
      "    \n",
      "df['class'][df['vibescore'] <= 0.4] = 0\n",
      "df['class'][(df['vibescore'] > 0.4) & (df['vibescore'] < 0.6)] = 1\n",
      "df['class'][df['vibescore'] >= 0.6] = 2\n",
      "# df.reindex(index=[range(len(df))], columns=['datetime', 'vibescore', 'motion'])\n",
      "df.head()\n",
      "print df.ix[1]"
     ],
     "language": "python",
     "metadata": {},
     "outputs": [
      {
       "ename": "Exception",
       "evalue": "Reindexing only valid with uniquely valued Index objects",
       "output_type": "pyerr",
       "traceback": [
        "\u001b[0;31m---------------------------------------------------------------------------\u001b[0m\n\u001b[0;31mException\u001b[0m                                 Traceback (most recent call last)",
        "\u001b[0;32m<ipython-input-11-f48b69aa1567>\u001b[0m in \u001b[0;36m<module>\u001b[0;34m()\u001b[0m\n\u001b[1;32m     15\u001b[0m \u001b[0mdf\u001b[0m\u001b[0;34m[\u001b[0m\u001b[0;34m'class'\u001b[0m\u001b[0;34m]\u001b[0m\u001b[0;34m[\u001b[0m\u001b[0;34m(\u001b[0m\u001b[0mdf\u001b[0m\u001b[0;34m[\u001b[0m\u001b[0;34m'vibescore'\u001b[0m\u001b[0;34m]\u001b[0m \u001b[0;34m>\u001b[0m \u001b[0;36m0.4\u001b[0m\u001b[0;34m)\u001b[0m \u001b[0;34m&\u001b[0m \u001b[0;34m(\u001b[0m\u001b[0mdf\u001b[0m\u001b[0;34m[\u001b[0m\u001b[0;34m'vibescore'\u001b[0m\u001b[0;34m]\u001b[0m \u001b[0;34m<\u001b[0m \u001b[0;36m0.6\u001b[0m\u001b[0;34m)\u001b[0m\u001b[0;34m]\u001b[0m \u001b[0;34m=\u001b[0m \u001b[0;36m1\u001b[0m\u001b[0;34m\u001b[0m\u001b[0m\n\u001b[1;32m     16\u001b[0m \u001b[0mdf\u001b[0m\u001b[0;34m[\u001b[0m\u001b[0;34m'class'\u001b[0m\u001b[0;34m]\u001b[0m\u001b[0;34m[\u001b[0m\u001b[0mdf\u001b[0m\u001b[0;34m[\u001b[0m\u001b[0;34m'vibescore'\u001b[0m\u001b[0;34m]\u001b[0m \u001b[0;34m>=\u001b[0m \u001b[0;36m0.6\u001b[0m\u001b[0;34m]\u001b[0m \u001b[0;34m=\u001b[0m \u001b[0;36m2\u001b[0m\u001b[0;34m\u001b[0m\u001b[0m\n\u001b[0;32m---> 17\u001b[0;31m \u001b[0mdf\u001b[0m\u001b[0;34m.\u001b[0m\u001b[0mreindex\u001b[0m\u001b[0;34m(\u001b[0m\u001b[0mindex\u001b[0m\u001b[0;34m=\u001b[0m\u001b[0;34m[\u001b[0m\u001b[0mrange\u001b[0m\u001b[0;34m(\u001b[0m\u001b[0mlen\u001b[0m\u001b[0;34m(\u001b[0m\u001b[0mdf\u001b[0m\u001b[0;34m)\u001b[0m\u001b[0;34m)\u001b[0m\u001b[0;34m]\u001b[0m\u001b[0;34m,\u001b[0m \u001b[0mcolumns\u001b[0m\u001b[0;34m=\u001b[0m\u001b[0;34m[\u001b[0m\u001b[0;34m'datetime'\u001b[0m\u001b[0;34m,\u001b[0m \u001b[0;34m'vibescore'\u001b[0m\u001b[0;34m,\u001b[0m \u001b[0;34m'motion'\u001b[0m\u001b[0;34m]\u001b[0m\u001b[0;34m)\u001b[0m\u001b[0;34m\u001b[0m\u001b[0m\n\u001b[0m\u001b[1;32m     18\u001b[0m \u001b[0mdf\u001b[0m\u001b[0;34m.\u001b[0m\u001b[0mhead\u001b[0m\u001b[0;34m(\u001b[0m\u001b[0;34m)\u001b[0m\u001b[0;34m\u001b[0m\u001b[0m\n\u001b[1;32m     19\u001b[0m \u001b[0;32mprint\u001b[0m \u001b[0mdf\u001b[0m\u001b[0;34m.\u001b[0m\u001b[0mix\u001b[0m\u001b[0;34m[\u001b[0m\u001b[0;36m1\u001b[0m\u001b[0;34m]\u001b[0m\u001b[0;34m\u001b[0m\u001b[0m\n",
        "\u001b[0;32m/Users/Jared/anaconda/lib/python2.7/site-packages/pandas/core/frame.pyc\u001b[0m in \u001b[0;36mreindex\u001b[0;34m(self, index, columns, method, level, fill_value, limit, copy)\u001b[0m\n\u001b[1;32m   2527\u001b[0m         \u001b[0;32mif\u001b[0m \u001b[0mindex\u001b[0m \u001b[0;32mis\u001b[0m \u001b[0;32mnot\u001b[0m \u001b[0mNone\u001b[0m\u001b[0;34m:\u001b[0m\u001b[0;34m\u001b[0m\u001b[0m\n\u001b[1;32m   2528\u001b[0m             frame = frame._reindex_index(index, method, copy, level,\n\u001b[0;32m-> 2529\u001b[0;31m                                          fill_value, limit)\n\u001b[0m\u001b[1;32m   2530\u001b[0m \u001b[0;34m\u001b[0m\u001b[0m\n\u001b[1;32m   2531\u001b[0m         \u001b[0;32mreturn\u001b[0m \u001b[0mframe\u001b[0m\u001b[0;34m\u001b[0m\u001b[0m\n",
        "\u001b[0;32m/Users/Jared/anaconda/lib/python2.7/site-packages/pandas/core/frame.pyc\u001b[0m in \u001b[0;36m_reindex_index\u001b[0;34m(self, new_index, method, copy, level, fill_value, limit)\u001b[0m\n\u001b[1;32m   2606\u001b[0m                        limit=None):\n\u001b[1;32m   2607\u001b[0m         new_index, indexer = self.index.reindex(new_index, method, level,\n\u001b[0;32m-> 2608\u001b[0;31m                                                 limit=limit)\n\u001b[0m\u001b[1;32m   2609\u001b[0m         return self._reindex_with_indexers(new_index, indexer, None, None,\n\u001b[1;32m   2610\u001b[0m                                            copy, fill_value)\n",
        "\u001b[0;32m/Users/Jared/anaconda/lib/python2.7/site-packages/pandas/core/index.pyc\u001b[0m in \u001b[0;36mreindex\u001b[0;34m(self, target, method, level, limit)\u001b[0m\n\u001b[1;32m    928\u001b[0m             \u001b[0;32melse\u001b[0m\u001b[0;34m:\u001b[0m\u001b[0;34m\u001b[0m\u001b[0m\n\u001b[1;32m    929\u001b[0m                 indexer = self.get_indexer(target, method=method,\n\u001b[0;32m--> 930\u001b[0;31m                                            limit=limit)\n\u001b[0m\u001b[1;32m    931\u001b[0m         \u001b[0;32mreturn\u001b[0m \u001b[0mtarget\u001b[0m\u001b[0;34m,\u001b[0m \u001b[0mindexer\u001b[0m\u001b[0;34m\u001b[0m\u001b[0m\n\u001b[1;32m    932\u001b[0m \u001b[0;34m\u001b[0m\u001b[0m\n",
        "\u001b[0;32m/Users/Jared/anaconda/lib/python2.7/site-packages/pandas/core/index.pyc\u001b[0m in \u001b[0;36mget_indexer\u001b[0;34m(self, target, method, limit)\u001b[0m\n\u001b[1;32m    847\u001b[0m \u001b[0;34m\u001b[0m\u001b[0m\n\u001b[1;32m    848\u001b[0m         \u001b[0;32mif\u001b[0m \u001b[0;32mnot\u001b[0m \u001b[0mself\u001b[0m\u001b[0;34m.\u001b[0m\u001b[0mis_unique\u001b[0m\u001b[0;34m:\u001b[0m\u001b[0;34m\u001b[0m\u001b[0m\n\u001b[0;32m--> 849\u001b[0;31m             raise Exception('Reindexing only valid with uniquely valued Index '\n\u001b[0m\u001b[1;32m    850\u001b[0m                             'objects')\n\u001b[1;32m    851\u001b[0m \u001b[0;34m\u001b[0m\u001b[0m\n",
        "\u001b[0;31mException\u001b[0m: Reindexing only valid with uniquely valued Index objects"
       ]
      }
     ],
     "prompt_number": 11
    },
    {
     "cell_type": "code",
     "collapsed": false,
     "input": [
      "d = 'sound'\n",
      "od = [q[1] for q in df[['datetime', d]].values if all(i != None for i in q)]\n",
      "nd = [q[1] for q in df[['datetime', d]].values if any(i == None for i in q)]\n",
      "ov = [q[1] for q in df[['datetime', 'vibescore']].values if all(i != None for i in q)]\n",
      "nv = [q[1] for q in df[['datetime', 'vibescore']].values if any(i == None for i in q)]\n",
      "\n",
      "plt.scatter(nd, nv, s=10, lw = 1, edgecolor='k', facecolor='k')\n",
      "plt.scatter(od, ov, s=10, lw = 1, edgecolor='r', facecolor='r')\n",
      "\n",
      "plt.xlim(0)\n",
      "plt.ylim(0)\n",
      "remove_border()"
     ],
     "language": "python",
     "metadata": {},
     "outputs": [
      {
       "metadata": {},
       "output_type": "display_data",
       "png": "[encoded data removed]",
       "text": [
        "<matplotlib.figure.Figure at 0x109338990>"
       ]
      }
     ],
     "prompt_number": 138
    },
    {
     "cell_type": "code",
     "collapsed": false,
     "input": [
      "X = []\n",
      "Y = []\n",
      "\n",
      "for i, r in df.iterrows():\n",
      "    X.append([r['temp'], r['motion'], r['sound']])\n",
      "    Y.append(r['class'])\n",
      "#     if r['class'] == 0:\n",
      "#         for e in range(0, 3):\n",
      "#             X.append([np.random.normal(df.temp[df['vibescore'] <= 0.4].mean(), df.temp[df['vibescore'] <= 0.4].std(), 1)[0], \n",
      "#                       np.random.normal(df.motion[df['vibescore'] <= 0.4].mean(), df.motion[df['vibescore'] <= 0.4].std(), 1)[0], \n",
      "#                       np.random.normal(df.sound[df['vibescore'] <= 0.4].mean(), df.sound[df['vibescore'] <= 0.4].std(), 1)[0]])\n",
      "#             ety = np.random.normal(df.vibescore[df['vibescore'] <= 0.4].mean(), df.vibescore[df['vibescore'] <= 0.4].std(), 1)[0]\n",
      "#             if ety <= 0.4:\n",
      "#                 Y.append(0)\n",
      "#             elif ety < 0.6 and ety > 0.4:\n",
      "#                 Y.append(1)\n",
      "#             else:\n",
      "#                 Y.append(2)\n"
     ],
     "language": "python",
     "metadata": {},
     "outputs": [],
     "prompt_number": 18
    },
    {
     "cell_type": "code",
     "collapsed": false,
     "input": [
      "logreg = linear_model.LogisticRegression(C=1e5)\n",
      "X_train, X_test, Y_train, Y_test = sklearn.cross_validation.train_test_split(X, Y, test_size=0.25, random_state=42)\n",
      "logreg.fit(X_train, Y_train)\n",
      "logreg.score(X_test, Y_test)"
     ],
     "language": "python",
     "metadata": {},
     "outputs": [
      {
       "metadata": {},
       "output_type": "pyout",
       "prompt_number": 19,
       "text": [
        "0.70052770448548818"
       ]
      }
     ],
     "prompt_number": 19
    },
    {
     "cell_type": "code",
     "collapsed": false,
     "input": [
      "logreg_nosplit = linear_model.LogisticRegression(C=1e5)\n",
      "logreg_nosplit.fit(X, Y)\n",
      "logreg_nosplit.score(X, Y)"
     ],
     "language": "python",
     "metadata": {},
     "outputs": [
      {
       "metadata": {},
       "output_type": "pyout",
       "prompt_number": 20,
       "text": [
        "0.68634564643799467"
       ]
      }
     ],
     "prompt_number": 20
    },
    {
     "cell_type": "code",
     "collapsed": false,
     "input": [
      "logreg.coef_"
     ],
     "language": "python",
     "metadata": {},
     "outputs": [
      {
       "metadata": {},
       "output_type": "pyout",
       "prompt_number": 21,
       "text": [
        "array([[ -3.90245786e-01,  -7.04484953e+00,  -2.46525893e+00],\n",
        "       [  3.45758114e-01,   3.29365101e+00,  -3.13551155e+00],\n",
        "       [  4.45974130e-04,   2.47518405e+00,   3.68639308e+00]])"
       ]
      }
     ],
     "prompt_number": 21
    },
    {
     "cell_type": "code",
     "collapsed": false,
     "input": [],
     "language": "python",
     "metadata": {},
     "outputs": [],
     "prompt_number": 21
    },
    {
     "cell_type": "code",
     "collapsed": false,
     "input": [
      "clf_LR = linear_model.LinearRegression()\n",
      "clf_LR.fit(X, Y)\n",
      "clf_LR.score(X, Y)"
     ],
     "language": "python",
     "metadata": {},
     "outputs": [
      {
       "metadata": {},
       "output_type": "pyout",
       "prompt_number": 22,
       "text": [
        "0.34311984731878975"
       ]
      }
     ],
     "prompt_number": 22
    },
    {
     "cell_type": "code",
     "collapsed": false,
     "input": [
      "clf_LR.coef_"
     ],
     "language": "python",
     "metadata": {},
     "outputs": [
      {
       "metadata": {},
       "output_type": "pyout",
       "prompt_number": 23,
       "text": [
        "array([ 0.05733011,  1.46059705,  0.63832322])"
       ]
      }
     ],
     "prompt_number": 23
    },
    {
     "cell_type": "code",
     "collapsed": false,
     "input": [
      "clf_tree = tree.DecisionTreeClassifier()\n",
      "clf_tree = clf_tree.fit(X_train, Y_train)\n",
      "clf_tree.score(X_test, Y_test)\n"
     ],
     "language": "python",
     "metadata": {},
     "outputs": [
      {
       "metadata": {},
       "output_type": "pyout",
       "prompt_number": 24,
       "text": [
        "0.70844327176781008"
       ]
      }
     ],
     "prompt_number": 24
    },
    {
     "cell_type": "code",
     "collapsed": false,
     "input": [],
     "language": "python",
     "metadata": {},
     "outputs": [],
     "prompt_number": 33
    },
    {
     "cell_type": "code",
     "collapsed": false,
     "input": [],
     "language": "python",
     "metadata": {},
     "outputs": []
    }
   ],
   "metadata": {}
  }
 ]
}