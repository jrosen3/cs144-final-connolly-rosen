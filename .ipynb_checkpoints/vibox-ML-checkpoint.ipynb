{
 "metadata": {
  "name": ""
 },
 "nbformat": 3,
 "nbformat_minor": 0,
 "worksheets": [
  {
   "cells": [
    {
     "cell_type": "code",
     "collapsed": false,
     "input": [
      "%matplotlib inline\n",
      "\n",
      "from sklearn import linear_model\n",
      "import sklearn\n",
      "import random\n",
      "\n",
      "import pandas as pd\n",
      "import numpy as np\n",
      "import math\n",
      "\n",
      "import pylab as pl\n",
      "\n",
      "import matplotlib.pyplot as plt\n",
      "from matplotlib import rcParams\n",
      "import matplotlib.cm as cm\n",
      "import matplotlib as mpl\n",
      "\n",
      "dark2_colors = [(0.10588235294117647, 0.6196078431372549, 0.4666666666666667),\n",
      "                (0.8509803921568627, 0.37254901960784315, 0.00784313725490196),\n",
      "                (0.4588235294117647, 0.4392156862745098, 0.7019607843137254),\n",
      "                (0.9058823529411765, 0.1607843137254902, 0.5411764705882353),\n",
      "                (0.4, 0.6509803921568628, 0.11764705882352941),\n",
      "                (0.9019607843137255, 0.6705882352941176, 0.00784313725490196),\n",
      "                (0.6509803921568628, 0.4627450980392157, 0.11372549019607843)]\n",
      "\n",
      "rcParams['figure.figsize'] = (10, 6)\n",
      "rcParams['figure.dpi'] = 150\n",
      "rcParams['axes.color_cycle'] = dark2_colors\n",
      "rcParams['lines.linewidth'] = 2\n",
      "rcParams['axes.facecolor'] = 'white'\n",
      "rcParams['font.size'] = 14\n",
      "rcParams['patch.edgecolor'] = 'white'\n",
      "rcParams['patch.facecolor'] = dark2_colors[0]\n",
      "rcParams['font.family'] = 'StixGeneral'\n",
      "\n",
      "def remove_border(axes=None, top=False, right=False, left=True, bottom=True):\n",
      "    \"\"\"\n",
      "    Minimize chartjunk by stripping out unnecesasry plot borders and axis ticks\n",
      "    \n",
      "    The top/right/left/bottom keywords toggle whether the corresponding plot border is drawn\n",
      "    \"\"\"\n",
      "    ax = axes or plt.gca()\n",
      "    ax.spines['top'].set_visible(top)\n",
      "    ax.spines['right'].set_visible(right)\n",
      "    ax.spines['left'].set_visible(left)\n",
      "    ax.spines['bottom'].set_visible(bottom)\n",
      "    \n",
      "    #turn off all ticks\n",
      "    ax.yaxis.set_ticks_position('none')\n",
      "    ax.xaxis.set_ticks_position('none')\n",
      "    \n",
      "    #now re-enable visibles\n",
      "    if top:\n",
      "        ax.xaxis.tick_top()\n",
      "    if bottom:\n",
      "        ax.xaxis.tick_bottom()\n",
      "    if left:\n",
      "        ax.yaxis.tick_left()\n",
      "    if right:\n",
      "        ax.yaxis.tick_right()"
     ],
     "language": "python",
     "metadata": {},
     "outputs": [],
     "prompt_number": 16
    },
    {
     "cell_type": "code",
     "collapsed": false,
     "input": [
      "df = pd.read_csv('data.csv')\n",
      "df.head()"
     ],
     "language": "python",
     "metadata": {},
     "outputs": [
      {
       "html": [
        "<div style=\"max-height:1000px;max-width:1500px;overflow:auto;\">\n",
        "<table border=\"1\" class=\"dataframe\">\n",
        "  <thead>\n",
        "    <tr style=\"text-align: right;\">\n",
        "      <th></th>\n",
        "      <th>datetime</th>\n",
        "      <th>temp</th>\n",
        "      <th>sound</th>\n",
        "      <th>motion</th>\n",
        "      <th>vibescore</th>\n",
        "    </tr>\n",
        "  </thead>\n",
        "  <tbody>\n",
        "    <tr>\n",
        "      <th>0</th>\n",
        "      <td> 2014-04-15 00:13:18</td>\n",
        "      <td> 23.81</td>\n",
        "      <td> 0.25</td>\n",
        "      <td> 0.09</td>\n",
        "      <td> 0.01</td>\n",
        "    </tr>\n",
        "    <tr>\n",
        "      <th>1</th>\n",
        "      <td> 2014-04-15 00:19:32</td>\n",
        "      <td> 22.81</td>\n",
        "      <td> 0.11</td>\n",
        "      <td> 0.12</td>\n",
        "      <td> 0.07</td>\n",
        "    </tr>\n",
        "    <tr>\n",
        "      <th>2</th>\n",
        "      <td> 2014-04-15 00:20:18</td>\n",
        "      <td> 21.33</td>\n",
        "      <td> 0.14</td>\n",
        "      <td> 0.30</td>\n",
        "      <td> 0.20</td>\n",
        "    </tr>\n",
        "    <tr>\n",
        "      <th>3</th>\n",
        "      <td> 2014-04-15 00:43:32</td>\n",
        "      <td> 20.18</td>\n",
        "      <td> 0.20</td>\n",
        "      <td> 0.26</td>\n",
        "      <td> 0.18</td>\n",
        "    </tr>\n",
        "    <tr>\n",
        "      <th>4</th>\n",
        "      <td> 2014-04-18 17:58:54</td>\n",
        "      <td> 21.48</td>\n",
        "      <td> 0.89</td>\n",
        "      <td> 0.10</td>\n",
        "      <td> 0.68</td>\n",
        "    </tr>\n",
        "  </tbody>\n",
        "</table>\n",
        "</div>"
       ],
       "metadata": {},
       "output_type": "pyout",
       "prompt_number": 17,
       "text": [
        "              datetime   temp  sound  motion  vibescore\n",
        "0  2014-04-15 00:13:18  23.81   0.25    0.09       0.01\n",
        "1  2014-04-15 00:19:32  22.81   0.11    0.12       0.07\n",
        "2  2014-04-15 00:20:18  21.33   0.14    0.30       0.20\n",
        "3  2014-04-15 00:43:32  20.18   0.20    0.26       0.18\n",
        "4  2014-04-18 17:58:54  21.48   0.89    0.10       0.68"
       ]
      }
     ],
     "prompt_number": 17
    },
    {
     "cell_type": "code",
     "collapsed": false,
     "input": [
      "df['class'] = None\n",
      "df['class'][df['vibescore'] <= 0.4] = 0\n",
      "df['class'][(df['vibescore'] > 0.4) & (df['vibescore'] < 0.6)] = 1\n",
      "df['class'][df['vibescore'] >= 0.6] = 2\n",
      "\n",
      "df.head()"
     ],
     "language": "python",
     "metadata": {},
     "outputs": [
      {
       "html": [
        "<div style=\"max-height:1000px;max-width:1500px;overflow:auto;\">\n",
        "<table border=\"1\" class=\"dataframe\">\n",
        "  <thead>\n",
        "    <tr style=\"text-align: right;\">\n",
        "      <th></th>\n",
        "      <th>datetime</th>\n",
        "      <th>temp</th>\n",
        "      <th>sound</th>\n",
        "      <th>motion</th>\n",
        "      <th>vibescore</th>\n",
        "      <th>class</th>\n",
        "    </tr>\n",
        "  </thead>\n",
        "  <tbody>\n",
        "    <tr>\n",
        "      <th>0</th>\n",
        "      <td> 2014-04-15 00:13:18</td>\n",
        "      <td> 23.81</td>\n",
        "      <td> 0.25</td>\n",
        "      <td> 0.09</td>\n",
        "      <td> 0.01</td>\n",
        "      <td> 0</td>\n",
        "    </tr>\n",
        "    <tr>\n",
        "      <th>1</th>\n",
        "      <td> 2014-04-15 00:19:32</td>\n",
        "      <td> 22.81</td>\n",
        "      <td> 0.11</td>\n",
        "      <td> 0.12</td>\n",
        "      <td> 0.07</td>\n",
        "      <td> 0</td>\n",
        "    </tr>\n",
        "    <tr>\n",
        "      <th>2</th>\n",
        "      <td> 2014-04-15 00:20:18</td>\n",
        "      <td> 21.33</td>\n",
        "      <td> 0.14</td>\n",
        "      <td> 0.30</td>\n",
        "      <td> 0.20</td>\n",
        "      <td> 0</td>\n",
        "    </tr>\n",
        "    <tr>\n",
        "      <th>3</th>\n",
        "      <td> 2014-04-15 00:43:32</td>\n",
        "      <td> 20.18</td>\n",
        "      <td> 0.20</td>\n",
        "      <td> 0.26</td>\n",
        "      <td> 0.18</td>\n",
        "      <td> 0</td>\n",
        "    </tr>\n",
        "    <tr>\n",
        "      <th>4</th>\n",
        "      <td> 2014-04-18 17:58:54</td>\n",
        "      <td> 21.48</td>\n",
        "      <td> 0.89</td>\n",
        "      <td> 0.10</td>\n",
        "      <td> 0.68</td>\n",
        "      <td> 2</td>\n",
        "    </tr>\n",
        "  </tbody>\n",
        "</table>\n",
        "</div>"
       ],
       "metadata": {},
       "output_type": "pyout",
       "prompt_number": 41,
       "text": [
        "              datetime   temp  sound  motion  vibescore class\n",
        "0  2014-04-15 00:13:18  23.81   0.25    0.09       0.01     0\n",
        "1  2014-04-15 00:19:32  22.81   0.11    0.12       0.07     0\n",
        "2  2014-04-15 00:20:18  21.33   0.14    0.30       0.20     0\n",
        "3  2014-04-15 00:43:32  20.18   0.20    0.26       0.18     0\n",
        "4  2014-04-18 17:58:54  21.48   0.89    0.10       0.68     2"
       ]
      }
     ],
     "prompt_number": 41
    },
    {
     "cell_type": "code",
     "collapsed": false,
     "input": [
      "# temp_s = np.random.normal(df.temp.mean(), df.temp.std(), 1000)\n",
      "# sound_s = np.random.normal(df.sound.mean(), df.sound.std(), 1000)\n",
      "# motion_s = np.random.normal(df.motion.mean(), df.motion.std(), 1000)\n",
      "# vibescore_s = np.random.normal(df.vibescore.mean(), df.vibescore.std(), 1000)"
     ],
     "language": "python",
     "metadata": {},
     "outputs": [],
     "prompt_number": 43
    },
    {
     "cell_type": "code",
     "collapsed": false,
     "input": [
      "plt.scatter(df.motion, df.vibescore)\n",
      "plt.xlim(0)\n",
      "plt.ylim(0)\n",
      "remove_border()"
     ],
     "language": "python",
     "metadata": {},
     "outputs": [
      {
       "metadata": {},
       "output_type": "display_data",
       "png": "[encoded data removed]",
       "text": [
        "<matplotlib.figure.Figure at 0x10804b0d0>"
       ]
      }
     ],
     "prompt_number": 44
    },
    {
     "cell_type": "code",
     "collapsed": false,
     "input": [],
     "language": "python",
     "metadata": {},
     "outputs": [],
     "prompt_number": 20
    },
    {
     "cell_type": "code",
     "collapsed": false,
     "input": [
      "X = []\n",
      "Y = []\n",
      "\n",
      "for i, r in df.iterrows():\n",
      "    X.append([r['temp'], r['motion'], r['sound']])\n",
      "    Y.append(r['class'])\n",
      "#     if r['class'] == 0:\n",
      "#         for e in range(0, 3):\n",
      "#             X.append([np.random.normal(df.temp[df['vibescore'] <= 0.4].mean(), df.temp[df['vibescore'] <= 0.4].std(), 1)[0], \n",
      "#                       np.random.normal(df.motion[df['vibescore'] <= 0.4].mean(), df.motion[df['vibescore'] <= 0.4].std(), 1)[0], \n",
      "#                       np.random.normal(df.sound[df['vibescore'] <= 0.4].mean(), df.sound[df['vibescore'] <= 0.4].std(), 1)[0]])\n",
      "#             ety = np.random.normal(df.vibescore[df['vibescore'] <= 0.4].mean(), df.vibescore[df['vibescore'] <= 0.4].std(), 1)[0]\n",
      "#             if ety <= 0.4:\n",
      "#                 Y.append(0)\n",
      "#             elif ety < 0.6 and ety > 0.4:\n",
      "#                 Y.append(1)\n",
      "#             else:\n",
      "#                 Y.append(2)\n"
     ],
     "language": "python",
     "metadata": {},
     "outputs": [],
     "prompt_number": 45
    },
    {
     "cell_type": "code",
     "collapsed": false,
     "input": [
      "logreg = linear_model.LogisticRegression(C=1e5)\n",
      "X_train, X_test, Y_train, Y_test = sklearn.cross_validation.train_test_split(X, Y, test_size=0.25, random_state=42)\n",
      "logreg.fit(X_train, Y_train)\n",
      "logreg.score(X_test, Y_test)"
     ],
     "language": "python",
     "metadata": {},
     "outputs": [
      {
       "metadata": {},
       "output_type": "pyout",
       "prompt_number": 46,
       "text": [
        "0.72727272727272729"
       ]
      }
     ],
     "prompt_number": 46
    },
    {
     "cell_type": "code",
     "collapsed": false,
     "input": [
      "logreg_nosplit = linear_model.LogisticRegression(C=1e5)\n",
      "logreg_nosplit.fit(X, Y)\n",
      "logreg_nosplit.score(X, Y)"
     ],
     "language": "python",
     "metadata": {},
     "outputs": [
      {
       "metadata": {},
       "output_type": "pyout",
       "prompt_number": 47,
       "text": [
        "0.84090909090909094"
       ]
      }
     ],
     "prompt_number": 47
    },
    {
     "cell_type": "code",
     "collapsed": false,
     "input": [
      "logreg.coef_"
     ],
     "language": "python",
     "metadata": {},
     "outputs": [
      {
       "metadata": {},
       "output_type": "pyout",
       "prompt_number": 48,
       "text": [
        "array([[-0.62682504, -9.99329597, -4.40392259],\n",
        "       [ 0.26528699,  5.80409825, -7.64262698],\n",
        "       [ 0.03017496,  2.84045613,  6.67441491]])"
       ]
      }
     ],
     "prompt_number": 48
    },
    {
     "cell_type": "code",
     "collapsed": false,
     "input": [],
     "language": "python",
     "metadata": {},
     "outputs": []
    },
    {
     "cell_type": "code",
     "collapsed": false,
     "input": [
      "clf_LR = linear_model.LinearRegression()\n",
      "clf_LR.fit(X, Y)\n",
      "clf_LR.score(X, Y)"
     ],
     "language": "python",
     "metadata": {},
     "outputs": [
      {
       "metadata": {},
       "output_type": "pyout",
       "prompt_number": 49,
       "text": [
        "0.34096335195200356"
       ]
      }
     ],
     "prompt_number": 49
    },
    {
     "cell_type": "code",
     "collapsed": false,
     "input": [
      "clf_LR.coef_"
     ],
     "language": "python",
     "metadata": {},
     "outputs": [
      {
       "metadata": {},
       "output_type": "pyout",
       "prompt_number": 50,
       "text": [
        "array([ 0.02425473,  2.01796688,  0.5219115 ])"
       ]
      }
     ],
     "prompt_number": 50
    },
    {
     "cell_type": "code",
     "collapsed": false,
     "input": [],
     "language": "python",
     "metadata": {},
     "outputs": []
    }
   ],
   "metadata": {}
  }
 ]
}