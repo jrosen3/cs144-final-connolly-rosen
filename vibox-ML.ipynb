{
 "metadata": {
  "name": ""
 },
 "nbformat": 3,
 "nbformat_minor": 0,
 "worksheets": [
  {
   "cells": [
    {
     "cell_type": "code",
     "collapsed": false,
     "input": [
      "%matplotlib inline\n",
      "\n",
      "from sklearn import linear_model\n",
      "from sklearn import tree\n",
      "import sklearn\n",
      "import random\n",
      "import StringIO\n",
      "import os\n",
      "\n",
      "import pandas as pd\n",
      "import numpy as np\n",
      "import math\n",
      "\n",
      "import pylab as pl\n",
      "\n",
      "import matplotlib.pyplot as plt\n",
      "from matplotlib import rcParams\n",
      "import matplotlib.cm as cm\n",
      "import matplotlib as mpl\n",
      "\n",
      "dark2_colors = [(0.10588235294117647, 0.6196078431372549, 0.4666666666666667),\n",
      "                (0.8509803921568627, 0.37254901960784315, 0.00784313725490196),\n",
      "                (0.4588235294117647, 0.4392156862745098, 0.7019607843137254),\n",
      "                (0.9058823529411765, 0.1607843137254902, 0.5411764705882353),\n",
      "                (0.4, 0.6509803921568628, 0.11764705882352941),\n",
      "                (0.9019607843137255, 0.6705882352941176, 0.00784313725490196),\n",
      "                (0.6509803921568628, 0.4627450980392157, 0.11372549019607843)]\n",
      "\n",
      "rcParams['figure.figsize'] = (10, 6)\n",
      "rcParams['figure.dpi'] = 150\n",
      "rcParams['axes.color_cycle'] = dark2_colors\n",
      "rcParams['lines.linewidth'] = 2\n",
      "rcParams['axes.facecolor'] = 'white'\n",
      "rcParams['font.size'] = 14\n",
      "rcParams['patch.edgecolor'] = 'white'\n",
      "rcParams['patch.facecolor'] = dark2_colors[0]\n",
      "rcParams['font.family'] = 'StixGeneral'\n",
      "\n",
      "def remove_border(axes=None, top=False, right=False, left=True, bottom=True):\n",
      "    \"\"\"\n",
      "    Minimize chartjunk by stripping out unnecesasry plot borders and axis ticks\n",
      "    \n",
      "    The top/right/left/bottom keywords toggle whether the corresponding plot border is drawn\n",
      "    \"\"\"\n",
      "    ax = axes or plt.gca()\n",
      "    ax.spines['top'].set_visible(top)\n",
      "    ax.spines['right'].set_visible(right)\n",
      "    ax.spines['left'].set_visible(left)\n",
      "    ax.spines['bottom'].set_visible(bottom)\n",
      "    \n",
      "    #turn off all ticks\n",
      "    ax.yaxis.set_ticks_position('none')\n",
      "    ax.xaxis.set_ticks_position('none')\n",
      "    \n",
      "    #now re-enable visibles\n",
      "    if top:\n",
      "        ax.xaxis.tick_top()\n",
      "    if bottom:\n",
      "        ax.xaxis.tick_bottom()\n",
      "    if left:\n",
      "        ax.yaxis.tick_left()\n",
      "    if right:\n",
      "        ax.yaxis.tick_right()"
     ],
     "language": "python",
     "metadata": {},
     "outputs": [],
     "prompt_number": 1
    },
    {
     "cell_type": "code",
     "collapsed": false,
     "input": [
      "df = pd.read_csv('data.csv')\n",
      "df.head()"
     ],
     "language": "python",
     "metadata": {},
     "outputs": [
      {
       "html": [
        "<div style=\"max-height:1000px;max-width:1500px;overflow:auto;\">\n",
        "<table border=\"1\" class=\"dataframe\">\n",
        "  <thead>\n",
        "    <tr style=\"text-align: right;\">\n",
        "      <th></th>\n",
        "      <th>datetime</th>\n",
        "      <th>temp</th>\n",
        "      <th>sound</th>\n",
        "      <th>motion</th>\n",
        "      <th>vibescore</th>\n",
        "    </tr>\n",
        "  </thead>\n",
        "  <tbody>\n",
        "    <tr>\n",
        "      <th>0</th>\n",
        "      <td> 2014-04-15 00:13:18</td>\n",
        "      <td> 23.81</td>\n",
        "      <td> 0.25</td>\n",
        "      <td> 0.09</td>\n",
        "      <td> 0.01</td>\n",
        "    </tr>\n",
        "    <tr>\n",
        "      <th>1</th>\n",
        "      <td> 2014-04-15 00:19:32</td>\n",
        "      <td> 22.81</td>\n",
        "      <td> 0.11</td>\n",
        "      <td> 0.12</td>\n",
        "      <td> 0.07</td>\n",
        "    </tr>\n",
        "    <tr>\n",
        "      <th>2</th>\n",
        "      <td> 2014-04-15 00:20:18</td>\n",
        "      <td> 21.33</td>\n",
        "      <td> 0.14</td>\n",
        "      <td> 0.30</td>\n",
        "      <td> 0.20</td>\n",
        "    </tr>\n",
        "    <tr>\n",
        "      <th>3</th>\n",
        "      <td> 2014-04-15 00:43:32</td>\n",
        "      <td> 20.18</td>\n",
        "      <td> 0.20</td>\n",
        "      <td> 0.26</td>\n",
        "      <td> 0.18</td>\n",
        "    </tr>\n",
        "    <tr>\n",
        "      <th>4</th>\n",
        "      <td> 2014-04-18 17:58:54</td>\n",
        "      <td> 21.48</td>\n",
        "      <td> 0.89</td>\n",
        "      <td> 0.10</td>\n",
        "      <td> 0.68</td>\n",
        "    </tr>\n",
        "  </tbody>\n",
        "</table>\n",
        "</div>"
       ],
       "metadata": {},
       "output_type": "pyout",
       "prompt_number": 2,
       "text": [
        "              datetime   temp  sound  motion  vibescore\n",
        "0  2014-04-15 00:13:18  23.81   0.25    0.09       0.01\n",
        "1  2014-04-15 00:19:32  22.81   0.11    0.12       0.07\n",
        "2  2014-04-15 00:20:18  21.33   0.14    0.30       0.20\n",
        "3  2014-04-15 00:43:32  20.18   0.20    0.26       0.18\n",
        "4  2014-04-18 17:58:54  21.48   0.89    0.10       0.68"
       ]
      }
     ],
     "prompt_number": 2
    },
    {
     "cell_type": "code",
     "collapsed": false,
     "input": [],
     "language": "python",
     "metadata": {},
     "outputs": [],
     "prompt_number": 2
    },
    {
     "cell_type": "code",
     "collapsed": false,
     "input": [
      "df['class'] = None\n",
      "df['class'][df['vibescore'] <= 0.4] = 0\n",
      "df['class'][(df['vibescore'] > 0.4) & (df['vibescore'] < 0.6)] = 1\n",
      "df['class'][df['vibescore'] >= 0.6] = 2\n",
      "\n",
      "df.head()"
     ],
     "language": "python",
     "metadata": {},
     "outputs": [
      {
       "html": [
        "<div style=\"max-height:1000px;max-width:1500px;overflow:auto;\">\n",
        "<table border=\"1\" class=\"dataframe\">\n",
        "  <thead>\n",
        "    <tr style=\"text-align: right;\">\n",
        "      <th></th>\n",
        "      <th>datetime</th>\n",
        "      <th>temp</th>\n",
        "      <th>sound</th>\n",
        "      <th>motion</th>\n",
        "      <th>vibescore</th>\n",
        "      <th>class</th>\n",
        "    </tr>\n",
        "  </thead>\n",
        "  <tbody>\n",
        "    <tr>\n",
        "      <th>0</th>\n",
        "      <td> 2014-04-15 00:13:18</td>\n",
        "      <td> 23.81</td>\n",
        "      <td> 0.25</td>\n",
        "      <td> 0.09</td>\n",
        "      <td> 0.01</td>\n",
        "      <td> 0</td>\n",
        "    </tr>\n",
        "    <tr>\n",
        "      <th>1</th>\n",
        "      <td> 2014-04-15 00:19:32</td>\n",
        "      <td> 22.81</td>\n",
        "      <td> 0.11</td>\n",
        "      <td> 0.12</td>\n",
        "      <td> 0.07</td>\n",
        "      <td> 0</td>\n",
        "    </tr>\n",
        "    <tr>\n",
        "      <th>2</th>\n",
        "      <td> 2014-04-15 00:20:18</td>\n",
        "      <td> 21.33</td>\n",
        "      <td> 0.14</td>\n",
        "      <td> 0.30</td>\n",
        "      <td> 0.20</td>\n",
        "      <td> 0</td>\n",
        "    </tr>\n",
        "    <tr>\n",
        "      <th>3</th>\n",
        "      <td> 2014-04-15 00:43:32</td>\n",
        "      <td> 20.18</td>\n",
        "      <td> 0.20</td>\n",
        "      <td> 0.26</td>\n",
        "      <td> 0.18</td>\n",
        "      <td> 0</td>\n",
        "    </tr>\n",
        "    <tr>\n",
        "      <th>4</th>\n",
        "      <td> 2014-04-18 17:58:54</td>\n",
        "      <td> 21.48</td>\n",
        "      <td> 0.89</td>\n",
        "      <td> 0.10</td>\n",
        "      <td> 0.68</td>\n",
        "      <td> 2</td>\n",
        "    </tr>\n",
        "  </tbody>\n",
        "</table>\n",
        "</div>"
       ],
       "metadata": {},
       "output_type": "pyout",
       "prompt_number": 3,
       "text": [
        "              datetime   temp  sound  motion  vibescore class\n",
        "0  2014-04-15 00:13:18  23.81   0.25    0.09       0.01     0\n",
        "1  2014-04-15 00:19:32  22.81   0.11    0.12       0.07     0\n",
        "2  2014-04-15 00:20:18  21.33   0.14    0.30       0.20     0\n",
        "3  2014-04-15 00:43:32  20.18   0.20    0.26       0.18     0\n",
        "4  2014-04-18 17:58:54  21.48   0.89    0.10       0.68     2"
       ]
      }
     ],
     "prompt_number": 3
    },
    {
     "cell_type": "code",
     "collapsed": false,
     "input": [
      "plt.hist(df.temp, bins=math.sqrt(len(df)))\n",
      "remove_border()"
     ],
     "language": "python",
     "metadata": {},
     "outputs": [
      {
       "metadata": {},
       "output_type": "display_data",
       "png": "[encoded data removed]",
       "text": [
        "<matplotlib.figure.Figure at 0x1030b0bd0>"
       ]
      }
     ],
     "prompt_number": 4
    },
    {
     "cell_type": "code",
     "collapsed": false,
     "input": [
      "num = 10000\n",
      "for i in set(df['class'].values):\n",
      "    vs = np.random.normal( df['vibescore'][df['class'] == i].mean(), df['vibescore'][df['class'] == i].std(), num)\n",
      "    vs = [1 if n > 1 else n for n in vs]\n",
      "    vs = [0 if n < 0 else n for n in vs]\n",
      "    t = np.random.normal( df['temp'][df['class'] == i].mean(), df['temp'][df['class'] == i].std(), num)\n",
      "    s = np.random.normal( df['sound'][df['class'] == i].mean(), df['sound'][df['class'] == i].std(), num)\n",
      "    s = [n if n > 0 else 0 for n in s]\n",
      "    m = np.random.normal( df['motion'][df['class'] == i].mean(), df['motion'][df['class'] == i].std(), num)\n",
      "    m = [1 if n > 1 else n for n in m]\n",
      "    m = [0 if n < 0 else n for n in m]\n",
      "    tdf = pd.DataFrame({'temp':t, 'sound':s, 'motion':m, 'class':None, 'vibescore':vs, 'datetime':None})\n",
      "    df = pd.concat([df, tdf], ignore_index=True)\n",
      "    \n",
      "df['class'][df['vibescore'] <= 0.4] = 0\n",
      "df['class'][(df['vibescore'] > 0.4) & (df['vibescore'] < 0.6)] = 1\n",
      "df['class'][df['vibescore'] >= 0.6] = 2\n",
      "df.head()\n"
     ],
     "language": "python",
     "metadata": {},
     "outputs": [
      {
       "html": [
        "<div style=\"max-height:1000px;max-width:1500px;overflow:auto;\">\n",
        "<table border=\"1\" class=\"dataframe\">\n",
        "  <thead>\n",
        "    <tr style=\"text-align: right;\">\n",
        "      <th></th>\n",
        "      <th>class</th>\n",
        "      <th>datetime</th>\n",
        "      <th>motion</th>\n",
        "      <th>sound</th>\n",
        "      <th>temp</th>\n",
        "      <th>vibescore</th>\n",
        "    </tr>\n",
        "  </thead>\n",
        "  <tbody>\n",
        "    <tr>\n",
        "      <th>0</th>\n",
        "      <td> 0</td>\n",
        "      <td> 2014-04-15 00:13:18</td>\n",
        "      <td> 0.09</td>\n",
        "      <td> 0.25</td>\n",
        "      <td> 23.81</td>\n",
        "      <td> 0.01</td>\n",
        "    </tr>\n",
        "    <tr>\n",
        "      <th>1</th>\n",
        "      <td> 0</td>\n",
        "      <td> 2014-04-15 00:19:32</td>\n",
        "      <td> 0.12</td>\n",
        "      <td> 0.11</td>\n",
        "      <td> 22.81</td>\n",
        "      <td> 0.07</td>\n",
        "    </tr>\n",
        "    <tr>\n",
        "      <th>2</th>\n",
        "      <td> 0</td>\n",
        "      <td> 2014-04-15 00:20:18</td>\n",
        "      <td> 0.30</td>\n",
        "      <td> 0.14</td>\n",
        "      <td> 21.33</td>\n",
        "      <td> 0.20</td>\n",
        "    </tr>\n",
        "    <tr>\n",
        "      <th>3</th>\n",
        "      <td> 0</td>\n",
        "      <td> 2014-04-15 00:43:32</td>\n",
        "      <td> 0.26</td>\n",
        "      <td> 0.20</td>\n",
        "      <td> 20.18</td>\n",
        "      <td> 0.18</td>\n",
        "    </tr>\n",
        "    <tr>\n",
        "      <th>4</th>\n",
        "      <td> 2</td>\n",
        "      <td> 2014-04-18 17:58:54</td>\n",
        "      <td> 0.10</td>\n",
        "      <td> 0.89</td>\n",
        "      <td> 21.48</td>\n",
        "      <td> 0.68</td>\n",
        "    </tr>\n",
        "  </tbody>\n",
        "</table>\n",
        "</div>"
       ],
       "metadata": {},
       "output_type": "pyout",
       "prompt_number": 5,
       "text": [
        "  class             datetime  motion  sound   temp  vibescore\n",
        "0     0  2014-04-15 00:13:18    0.09   0.25  23.81       0.01\n",
        "1     0  2014-04-15 00:19:32    0.12   0.11  22.81       0.07\n",
        "2     0  2014-04-15 00:20:18    0.30   0.14  21.33       0.20\n",
        "3     0  2014-04-15 00:43:32    0.26   0.20  20.18       0.18\n",
        "4     2  2014-04-18 17:58:54    0.10   0.89  21.48       0.68"
       ]
      }
     ],
     "prompt_number": 5
    },
    {
     "cell_type": "code",
     "collapsed": false,
     "input": [
      "d = 'sound'\n",
      "od = [q[1] for q in df[['datetime', d]].values if all(i != None for i in q)]\n",
      "nd = [q[1] for q in df[['datetime', d]].values if any(i == None for i in q)]\n",
      "ov = [q[1] for q in df[['datetime', 'vibescore']].values if all(i != None for i in q)]\n",
      "nv = [q[1] for q in df[['datetime', 'vibescore']].values if any(i == None for i in q)]\n",
      "\n",
      "plt.scatter(nd, nv, s=10, lw = 1, edgecolor='k', facecolor='k')\n",
      "plt.scatter(od, ov, s=10, lw = 1, edgecolor='r', facecolor='r')\n",
      "\n",
      "plt.xlim(0)\n",
      "plt.ylim(0)\n",
      "remove_border()"
     ],
     "language": "python",
     "metadata": {},
     "outputs": [
      {
       "metadata": {},
       "output_type": "display_data",
       "png": "[encoded data removed]",
       "text": [
        "<matplotlib.figure.Figure at 0x1080291d0>"
       ]
      }
     ],
     "prompt_number": 6
    },
    {
     "cell_type": "code",
     "collapsed": false,
     "input": [
      "X = []\n",
      "Y = []\n",
      "\n",
      "for i, r in df.iterrows():\n",
      "    X.append([r['temp'], r['motion'], r['sound']])\n",
      "    Y.append(r['class'])"
     ],
     "language": "python",
     "metadata": {},
     "outputs": [],
     "prompt_number": 7
    },
    {
     "cell_type": "code",
     "collapsed": false,
     "input": [
      "clf_logreg = linear_model.LogisticRegression(C=1e5)\n",
      "X_train, X_test, Y_train, Y_test = sklearn.cross_validation.train_test_split(X, Y, test_size=0.25, random_state=42)\n",
      "clf_logreg.fit(X_train, Y_train)\n",
      "clf_logreg.score(X_test, Y_test)"
     ],
     "language": "python",
     "metadata": {},
     "outputs": [
      {
       "metadata": {},
       "output_type": "pyout",
       "prompt_number": 8,
       "text": [
        "0.68740010655301009"
       ]
      }
     ],
     "prompt_number": 8
    },
    {
     "cell_type": "code",
     "collapsed": false,
     "input": [
      "clf_logreg.coef_"
     ],
     "language": "python",
     "metadata": {},
     "outputs": [
      {
       "metadata": {},
       "output_type": "pyout",
       "prompt_number": 9,
       "text": [
        "array([[-0.3665179 , -7.12689218, -2.53851373],\n",
        "       [ 0.38139906,  2.96274014, -3.04250551],\n",
        "       [-0.05561302,  2.95631197,  3.80806451]])"
       ]
      }
     ],
     "prompt_number": 9
    },
    {
     "cell_type": "code",
     "collapsed": false,
     "input": [],
     "language": "python",
     "metadata": {},
     "outputs": [],
     "prompt_number": 9
    },
    {
     "cell_type": "code",
     "collapsed": false,
     "input": [
      "clf_lr = linear_model.LinearRegression()\n",
      "clf_lr.fit(X, Y)\n",
      "clf_lr.score(X, Y)"
     ],
     "language": "python",
     "metadata": {},
     "outputs": [
      {
       "metadata": {},
       "output_type": "pyout",
       "prompt_number": 10,
       "text": [
        "0.34112933226307318"
       ]
      }
     ],
     "prompt_number": 10
    },
    {
     "cell_type": "code",
     "collapsed": false,
     "input": [
      "clf_lr.coef_"
     ],
     "language": "python",
     "metadata": {},
     "outputs": [
      {
       "metadata": {},
       "output_type": "pyout",
       "prompt_number": 11,
       "text": [
        "array([ 0.04984094,  1.47208881,  0.64889005])"
       ]
      }
     ],
     "prompt_number": 11
    },
    {
     "cell_type": "code",
     "collapsed": false,
     "input": [
      "clf_tree = tree.DecisionTreeClassifier()\n",
      "clf_tree = clf_tree.fit(X_train, Y_train)\n",
      "clf_tree.score(X_test, Y_test)"
     ],
     "language": "python",
     "metadata": {},
     "outputs": [
      {
       "metadata": {},
       "output_type": "pyout",
       "prompt_number": 12,
       "text": [
        "0.6827384123601492"
       ]
      }
     ],
     "prompt_number": 12
    },
    {
     "cell_type": "code",
     "collapsed": false,
     "input": [
      "with open(\"tree.dot\", 'w') as f:\n",
      "    f = tree.export_graphviz(clf_tree, out_file=f)\n",
      "\n",
      "# dot -Tpdf tree.dot -o tree.pdf"
     ],
     "language": "python",
     "metadata": {},
     "outputs": [],
     "prompt_number": 18
    },
    {
     "cell_type": "code",
     "collapsed": false,
     "input": [
      "os.unlink('tree.dot')"
     ],
     "language": "python",
     "metadata": {},
     "outputs": [],
     "prompt_number": 19
    },
    {
     "cell_type": "code",
     "collapsed": false,
     "input": [],
     "language": "python",
     "metadata": {},
     "outputs": []
    }
   ],
   "metadata": {}
  }
 ]
}