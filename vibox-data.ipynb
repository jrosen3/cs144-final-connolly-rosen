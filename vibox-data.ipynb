{
 "metadata": {
  "name": ""
 },
 "nbformat": 3,
 "nbformat_minor": 0,
 "worksheets": [
  {
   "cells": [
    {
     "cell_type": "code",
     "collapsed": false,
     "input": [
      "%matplotlib inline\n",
      "\n",
      "import sklearn\n",
      "from sklearn import cross_validation\n",
      "from sklearn import linear_model\n",
      "import random\n",
      "\n",
      "import pandas as pd\n",
      "import numpy as np\n",
      "import math\n",
      "\n",
      "import matplotlib.pyplot as plt\n",
      "from matplotlib import rcParams\n",
      "import matplotlib.cm as cm\n",
      "import matplotlib as mpl\n",
      "\n",
      "dark2_colors = [(0.10588235294117647, 0.6196078431372549, 0.4666666666666667),\n",
      "                (0.8509803921568627, 0.37254901960784315, 0.00784313725490196),\n",
      "                (0.4588235294117647, 0.4392156862745098, 0.7019607843137254),\n",
      "                (0.9058823529411765, 0.1607843137254902, 0.5411764705882353),\n",
      "                (0.4, 0.6509803921568628, 0.11764705882352941),\n",
      "                (0.9019607843137255, 0.6705882352941176, 0.00784313725490196),\n",
      "                (0.6509803921568628, 0.4627450980392157, 0.11372549019607843)]\n",
      "\n",
      "rcParams['figure.figsize'] = (10, 6)\n",
      "rcParams['figure.dpi'] = 150\n",
      "rcParams['axes.color_cycle'] = dark2_colors\n",
      "rcParams['lines.linewidth'] = 2\n",
      "rcParams['axes.facecolor'] = 'white'\n",
      "rcParams['font.size'] = 14\n",
      "rcParams['patch.edgecolor'] = 'white'\n",
      "rcParams['patch.facecolor'] = dark2_colors[0]\n",
      "rcParams['font.family'] = 'StixGeneral'\n",
      "\n",
      "def remove_border(axes=None, top=False, right=False, left=True, bottom=True):\n",
      "    \"\"\"\n",
      "    Minimize chartjunk by stripping out unnecesasry plot borders and axis ticks\n",
      "    \n",
      "    The top/right/left/bottom keywords toggle whether the corresponding plot border is drawn\n",
      "    \"\"\"\n",
      "    ax = axes or plt.gca()\n",
      "    ax.spines['top'].set_visible(top)\n",
      "    ax.spines['right'].set_visible(right)\n",
      "    ax.spines['left'].set_visible(left)\n",
      "    ax.spines['bottom'].set_visible(bottom)\n",
      "    \n",
      "    #turn off all ticks\n",
      "    ax.yaxis.set_ticks_position('none')\n",
      "    ax.xaxis.set_ticks_position('none')\n",
      "    \n",
      "    #now re-enable visibles\n",
      "    if top:\n",
      "        ax.xaxis.tick_top()\n",
      "    if bottom:\n",
      "        ax.xaxis.tick_bottom()\n",
      "    if left:\n",
      "        ax.yaxis.tick_left()\n",
      "    if right:\n",
      "        ax.yaxis.tick_right()"
     ],
     "language": "python",
     "metadata": {},
     "outputs": [],
     "prompt_number": 1
    },
    {
     "cell_type": "code",
     "collapsed": false,
     "input": [
      "df = pd.read_csv('data.csv')\n",
      "df['cluster'] = None\n",
      "\n",
      "vs = [round(n, 2) for n in np.random.normal(df.vibescore.mean(), df.vibescore.std(), 10)]\n",
      "vs = [1 if n > 1 else n for n in vs]\n",
      "vs = [0 if n < 0 else n for n in vs]\n",
      "\n",
      "t = [round(n, 2) for n in np.random.normal(df.temp.mean(), df.temp.std(), 10)]\n",
      "\n",
      "m = [round(n, 2) for n in np.random.normal(df.motion.mean(), df.motion.std(), 10)]\n",
      "m = [1 if n > 1 else n for n in m]\n",
      "m = [0 if n < 0 else n for n in m]\n",
      "\n",
      "s = [round(n, 2) for n in np.random.normal(df.sound.mean(), df.sound.std(), 10)]\n",
      "s = [5 if n > 9 else n for n in s]\n",
      "s = [0 if n < 0 else n for n in s]\n",
      "\n",
      "df = pd.concat([df, pd.DataFrame({'temp':t, 'sound':s, 'motion':m, 'cluster':None, 'vibescore':vs, 'datetime':None})], ignore_index=True)\n",
      "\n",
      "\n",
      "df['cluster'][df['vibescore'] <= 0.2] = 0\n",
      "df['cluster'][(df['vibescore'] > 0.2) & (df['vibescore'] <= 0.4)] = 1\n",
      "df['cluster'][(df['vibescore'] > 0.4) & (df['vibescore'] <= 0.6)] = 2\n",
      "df['cluster'][(df['vibescore'] > 0.6) & (df['vibescore'] <= 0.8)] = 3\n",
      "df['cluster'][df['vibescore'] > 0.8] = 4\n",
      "df.head()"
     ],
     "language": "python",
     "metadata": {},
     "outputs": [
      {
       "html": [
        "<div style=\"max-height:1000px;max-width:1500px;overflow:auto;\">\n",
        "<table border=\"1\" class=\"dataframe\">\n",
        "  <thead>\n",
        "    <tr style=\"text-align: right;\">\n",
        "      <th></th>\n",
        "      <th>cluster</th>\n",
        "      <th>datetime</th>\n",
        "      <th>motion</th>\n",
        "      <th>sound</th>\n",
        "      <th>temp</th>\n",
        "      <th>vibescore</th>\n",
        "    </tr>\n",
        "  </thead>\n",
        "  <tbody>\n",
        "    <tr>\n",
        "      <th>0</th>\n",
        "      <td> 0</td>\n",
        "      <td> 2014-04-15 00:13:18</td>\n",
        "      <td> 0.09</td>\n",
        "      <td> 0.25</td>\n",
        "      <td> 23.81</td>\n",
        "      <td> 0.01</td>\n",
        "    </tr>\n",
        "    <tr>\n",
        "      <th>1</th>\n",
        "      <td> 0</td>\n",
        "      <td> 2014-04-15 00:19:32</td>\n",
        "      <td> 0.12</td>\n",
        "      <td> 0.11</td>\n",
        "      <td> 22.81</td>\n",
        "      <td> 0.07</td>\n",
        "    </tr>\n",
        "    <tr>\n",
        "      <th>2</th>\n",
        "      <td> 0</td>\n",
        "      <td> 2014-04-15 00:20:18</td>\n",
        "      <td> 0.30</td>\n",
        "      <td> 0.14</td>\n",
        "      <td> 21.33</td>\n",
        "      <td> 0.20</td>\n",
        "    </tr>\n",
        "    <tr>\n",
        "      <th>3</th>\n",
        "      <td> 0</td>\n",
        "      <td> 2014-04-15 00:43:32</td>\n",
        "      <td> 0.26</td>\n",
        "      <td> 0.20</td>\n",
        "      <td> 20.18</td>\n",
        "      <td> 0.18</td>\n",
        "    </tr>\n",
        "    <tr>\n",
        "      <th>4</th>\n",
        "      <td> 3</td>\n",
        "      <td> 2014-04-18 17:58:54</td>\n",
        "      <td> 0.10</td>\n",
        "      <td> 0.89</td>\n",
        "      <td> 21.48</td>\n",
        "      <td> 0.68</td>\n",
        "    </tr>\n",
        "  </tbody>\n",
        "</table>\n",
        "</div>"
       ],
       "metadata": {},
       "output_type": "pyout",
       "prompt_number": 653,
       "text": [
        "  cluster             datetime  motion  sound   temp  vibescore\n",
        "0       0  2014-04-15 00:13:18    0.09   0.25  23.81       0.01\n",
        "1       0  2014-04-15 00:19:32    0.12   0.11  22.81       0.07\n",
        "2       0  2014-04-15 00:20:18    0.30   0.14  21.33       0.20\n",
        "3       0  2014-04-15 00:43:32    0.26   0.20  20.18       0.18\n",
        "4       3  2014-04-18 17:58:54    0.10   0.89  21.48       0.68"
       ]
      }
     ],
     "prompt_number": 653
    },
    {
     "cell_type": "code",
     "collapsed": false,
     "input": [
      "print list(df.cluster.values).count(0)\n",
      "print list(df.cluster.values).count(1)\n",
      "print list(df.cluster.values).count(2)\n",
      "print list(df.cluster.values).count(3)\n",
      "print list(df.cluster.values).count(4)"
     ],
     "language": "python",
     "metadata": {},
     "outputs": [
      {
       "output_type": "stream",
       "stream": "stdout",
       "text": [
        "4\n",
        "3\n",
        "16\n",
        "17\n",
        "2\n"
       ]
      }
     ],
     "prompt_number": 654
    },
    {
     "cell_type": "code",
     "collapsed": false,
     "input": [
      "df.to_csv('data-4-new.csv', index=False)\n",
      "df = pd.read_csv('data-4-new.csv')\n",
      "print list(df.cluster.values).count(0)\n",
      "print list(df.cluster.values).count(1)\n",
      "print list(df.cluster.values).count(2)\n",
      "print list(df.cluster.values).count(3)\n",
      "print list(df.cluster.values).count(4)\n",
      "df.head()"
     ],
     "language": "python",
     "metadata": {},
     "outputs": [
      {
       "output_type": "stream",
       "stream": "stdout",
       "text": [
        "4\n",
        "3\n",
        "16\n",
        "17\n",
        "2\n"
       ]
      },
      {
       "html": [
        "<div style=\"max-height:1000px;max-width:1500px;overflow:auto;\">\n",
        "<table border=\"1\" class=\"dataframe\">\n",
        "  <thead>\n",
        "    <tr style=\"text-align: right;\">\n",
        "      <th></th>\n",
        "      <th>cluster</th>\n",
        "      <th>datetime</th>\n",
        "      <th>motion</th>\n",
        "      <th>sound</th>\n",
        "      <th>temp</th>\n",
        "      <th>vibescore</th>\n",
        "    </tr>\n",
        "  </thead>\n",
        "  <tbody>\n",
        "    <tr>\n",
        "      <th>0</th>\n",
        "      <td> 0</td>\n",
        "      <td> 2014-04-15 00:13:18</td>\n",
        "      <td> 0.09</td>\n",
        "      <td> 0.25</td>\n",
        "      <td> 23.81</td>\n",
        "      <td> 0.01</td>\n",
        "    </tr>\n",
        "    <tr>\n",
        "      <th>1</th>\n",
        "      <td> 0</td>\n",
        "      <td> 2014-04-15 00:19:32</td>\n",
        "      <td> 0.12</td>\n",
        "      <td> 0.11</td>\n",
        "      <td> 22.81</td>\n",
        "      <td> 0.07</td>\n",
        "    </tr>\n",
        "    <tr>\n",
        "      <th>2</th>\n",
        "      <td> 0</td>\n",
        "      <td> 2014-04-15 00:20:18</td>\n",
        "      <td> 0.30</td>\n",
        "      <td> 0.14</td>\n",
        "      <td> 21.33</td>\n",
        "      <td> 0.20</td>\n",
        "    </tr>\n",
        "    <tr>\n",
        "      <th>3</th>\n",
        "      <td> 0</td>\n",
        "      <td> 2014-04-15 00:43:32</td>\n",
        "      <td> 0.26</td>\n",
        "      <td> 0.20</td>\n",
        "      <td> 20.18</td>\n",
        "      <td> 0.18</td>\n",
        "    </tr>\n",
        "    <tr>\n",
        "      <th>4</th>\n",
        "      <td> 3</td>\n",
        "      <td> 2014-04-18 17:58:54</td>\n",
        "      <td> 0.10</td>\n",
        "      <td> 0.89</td>\n",
        "      <td> 21.48</td>\n",
        "      <td> 0.68</td>\n",
        "    </tr>\n",
        "  </tbody>\n",
        "</table>\n",
        "</div>"
       ],
       "metadata": {},
       "output_type": "pyout",
       "prompt_number": 655,
       "text": [
        "   cluster             datetime  motion  sound   temp  vibescore\n",
        "0        0  2014-04-15 00:13:18    0.09   0.25  23.81       0.01\n",
        "1        0  2014-04-15 00:19:32    0.12   0.11  22.81       0.07\n",
        "2        0  2014-04-15 00:20:18    0.30   0.14  21.33       0.20\n",
        "3        0  2014-04-15 00:43:32    0.26   0.20  20.18       0.18\n",
        "4        3  2014-04-18 17:58:54    0.10   0.89  21.48       0.68"
       ]
      }
     ],
     "prompt_number": 655
    },
    {
     "cell_type": "code",
     "collapsed": false,
     "input": [
      "df = pd.read_csv('data-2-new.csv')\n",
      "dfn = pd.DataFrame()\n",
      "num = 1000\n",
      "for i in np.unique(df.cluster):\n",
      "#     vsfm = [0, 0, 0, 0, 0]\n",
      "#     vsfs = [.5, .5, .5, .5, .5]\n",
      "#     vsm = df['vibescore'][df['cluster'] == i].mean() + vsfm[i]\n",
      "#     vss = df['vibescore'][df['cluster'] == i].std() * vsfs[i]\n",
      "#     vs = np.random.normal(vsm, vss, num)\n",
      "#     vs = [round(n, 2) for n in vs]\n",
      "#     vs = [1 if n > 1 else n for n in vs]\n",
      "#     vs = [0 if n < 0 else n for n in vs]\n",
      "    \n",
      "    tfm = [-2, -1, .5, 2, 3]\n",
      "    tfs = [.5, .6, .7, .8, .4]\n",
      "    tm = df['temp'][df['cluster'] == i].mean() + tfm[i]\n",
      "    ts = df['temp'][df['cluster'] == i].std() * tfs[i]\n",
      "    t = np.random.normal(tm, ts, num)\n",
      "    t = [round(n, 2) for n in t]\n",
      "    \n",
      "    sfm = [0, 1, 2, 3, 5]\n",
      "    sfs = [.7, 1.1, 1.4, 1.9, 2.3]\n",
      "    sm = df['sound'][df['cluster'] == i].mean() + sfm[i]\n",
      "    ss = df['sound'][df['cluster'] == i].std() * sfs[i]\n",
      "    s = np.random.normal(sm, ss, num)\n",
      "    s = [round(n, 2) for n in s]\n",
      "    s = [0 if n < 0 else n for n in s]\n",
      "    s = [5 if n > 10 else n for n in s]\n",
      "    \n",
      "    mfm = [0, .1, .2, .6, .9]\n",
      "    mfs = [.7, .6, .5, .6, .7]\n",
      "    mm = df['motion'][df['cluster'] == i].mean() + mfm[i]\n",
      "    ms = df['motion'][df['cluster'] == i].std() * mfs[i]\n",
      "    m = np.random.normal(mm, ms, num)\n",
      "    m = [round(n, 2) for n in m]\n",
      "    m = [round(random.uniform(.8, 1), 2) if n > 1 else n for n in m]\n",
      "    m = [0 if n < 0 else n for n in m]\n",
      "    \n",
      "    tdf = pd.DataFrame({'temp':t, 'sound':s, 'motion':m, 'cluster':i, 'vibescore':None, 'datetime':None})\n",
      "    dfn = pd.concat([dfn, tdf], ignore_index=True)\n",
      "    \n",
      "# df['cluster'][df['vibescore'] <= 0.2] = 0\n",
      "# df['cluster'][(df['vibescore'] > 0.2) & (df['vibescore'] <= 0.4)] = 1\n",
      "# df['cluster'][(df['vibescore'] > 0.4) & (df['vibescore'] <= 0.6)] = 2\n",
      "# df['cluster'][(df['vibescore'] > 0.6) & (df['vibescore'] <= 0.8)] = 3\n",
      "# df['cluster'][df['vibescore'] > 0.8] = 4\n",
      "df = dfn\n",
      "df.head()\n",
      "\n",
      "# df[['temp', 'motion', 'sound', 'vibescore']].to_csv('data-3-new.csv', index=False)"
     ],
     "language": "python",
     "metadata": {},
     "outputs": [
      {
       "html": [
        "<div style=\"max-height:1000px;max-width:1500px;overflow:auto;\">\n",
        "<table border=\"1\" class=\"dataframe\">\n",
        "  <thead>\n",
        "    <tr style=\"text-align: right;\">\n",
        "      <th></th>\n",
        "      <th>cluster</th>\n",
        "      <th>datetime</th>\n",
        "      <th>motion</th>\n",
        "      <th>sound</th>\n",
        "      <th>temp</th>\n",
        "      <th>vibescore</th>\n",
        "    </tr>\n",
        "  </thead>\n",
        "  <tbody>\n",
        "    <tr>\n",
        "      <th>0</th>\n",
        "      <td> 0</td>\n",
        "      <td> None</td>\n",
        "      <td> 0.25</td>\n",
        "      <td> 0.42</td>\n",
        "      <td> 20.16</td>\n",
        "      <td> None</td>\n",
        "    </tr>\n",
        "    <tr>\n",
        "      <th>1</th>\n",
        "      <td> 0</td>\n",
        "      <td> None</td>\n",
        "      <td> 0.48</td>\n",
        "      <td> 0.31</td>\n",
        "      <td> 20.10</td>\n",
        "      <td> None</td>\n",
        "    </tr>\n",
        "    <tr>\n",
        "      <th>2</th>\n",
        "      <td> 0</td>\n",
        "      <td> None</td>\n",
        "      <td> 0.17</td>\n",
        "      <td> 0.63</td>\n",
        "      <td> 21.07</td>\n",
        "      <td> None</td>\n",
        "    </tr>\n",
        "    <tr>\n",
        "      <th>3</th>\n",
        "      <td> 0</td>\n",
        "      <td> None</td>\n",
        "      <td> 0.49</td>\n",
        "      <td> 0.68</td>\n",
        "      <td> 20.08</td>\n",
        "      <td> None</td>\n",
        "    </tr>\n",
        "    <tr>\n",
        "      <th>4</th>\n",
        "      <td> 0</td>\n",
        "      <td> None</td>\n",
        "      <td> 0.32</td>\n",
        "      <td> 0.00</td>\n",
        "      <td> 19.80</td>\n",
        "      <td> None</td>\n",
        "    </tr>\n",
        "  </tbody>\n",
        "</table>\n",
        "</div>"
       ],
       "metadata": {},
       "output_type": "pyout",
       "prompt_number": 683,
       "text": [
        "   cluster datetime  motion  sound   temp vibescore\n",
        "0        0     None    0.25   0.42  20.16      None\n",
        "1        0     None    0.48   0.31  20.10      None\n",
        "2        0     None    0.17   0.63  21.07      None\n",
        "3        0     None    0.49   0.68  20.08      None\n",
        "4        0     None    0.32   0.00  19.80      None"
       ]
      }
     ],
     "prompt_number": 683
    },
    {
     "cell_type": "code",
     "collapsed": false,
     "input": [
      "l = ['class 0', 'class 1', 'class 2', 'class 3', 'class 4']"
     ],
     "language": "python",
     "metadata": {},
     "outputs": [],
     "prompt_number": 684
    },
    {
     "cell_type": "code",
     "collapsed": false,
     "input": [
      "# for i in np.unique(df.cluster):\n",
      "#     plt.hist(df.temp[df.cluster == i], bins=np.arange(int(df.temp.min()), int(df.temp.max()), 1), log=True, label=l[i])\n",
      "# plt.legend()\n",
      "# remove_border()"
     ],
     "language": "python",
     "metadata": {},
     "outputs": [],
     "prompt_number": 685
    },
    {
     "cell_type": "code",
     "collapsed": false,
     "input": [
      "plt.scatter(df.temp, df.cluster, s=20, lw = 1, edgecolor='w', facecolor=dark2_colors[6])\n",
      "plt.xlim(df.temp.min()-.1, df.temp.max()+.1)\n",
      "plt.ylim(df.cluster.min()-.1, df.cluster.max()+.1)\n",
      "plt.ylabel('cluster')\n",
      "plt.xlabel('temperature')\n",
      "remove_border()"
     ],
     "language": "python",
     "metadata": {},
     "outputs": [
      {
       "metadata": {},
       "output_type": "display_data",
       "png": "[encoded data removed]",
       "text": [
        "<matplotlib.figure.Figure at 0x1085b9310>"
       ]
      }
     ],
     "prompt_number": 686
    },
    {
     "cell_type": "code",
     "collapsed": false,
     "input": [
      "# for i in np.unique(df.cluster):\n",
      "#     plt.hist(df.sound[df.cluster == i], bins=np.arange(df.sound.min(), df.sound.max()+1, 1), log=True, label=l[i])\n",
      "# plt.legend()\n",
      "# remove_border()"
     ],
     "language": "python",
     "metadata": {},
     "outputs": [],
     "prompt_number": 687
    },
    {
     "cell_type": "code",
     "collapsed": false,
     "input": [
      "plt.scatter(df.sound, df.cluster, s=20, lw = 1, edgecolor='w', facecolor=dark2_colors[6])\n",
      "plt.xlim(df.sound.min()-.1, df.sound.max()+.1)\n",
      "plt.ylim(df.cluster.min()-.1, df.cluster.max()+.1)\n",
      "plt.ylabel('cluster')\n",
      "plt.xlabel('sound')\n",
      "remove_border()"
     ],
     "language": "python",
     "metadata": {},
     "outputs": [
      {
       "metadata": {},
       "output_type": "display_data",
       "png": "[encoded data removed]",
       "text": [
        "<matplotlib.figure.Figure at 0x109ec8c50>"
       ]
      }
     ],
     "prompt_number": 688
    },
    {
     "cell_type": "code",
     "collapsed": false,
     "input": [
      "# for i in np.unique(df.cluster):\n",
      "#     plt.hist(df.motion[df.cluster == i], bins=np.arange(df.motion.min(), df.motion.max()+.1, .1), log=True, label=l[i])\n",
      "# plt.legend()\n",
      "# remove_border()"
     ],
     "language": "python",
     "metadata": {},
     "outputs": [],
     "prompt_number": 689
    },
    {
     "cell_type": "code",
     "collapsed": false,
     "input": [
      "plt.scatter(df.motion, df.cluster, s=20, lw = 1, edgecolor='w', facecolor=dark2_colors[6])\n",
      "plt.xlim(df.motion.min()-.1, df.motion.max()+.1)\n",
      "plt.ylim(df.cluster.min()-.1, df.cluster.max()+.1)\n",
      "plt.ylabel('cluster')\n",
      "plt.xlabel('motion')\n",
      "remove_border()"
     ],
     "language": "python",
     "metadata": {},
     "outputs": [
      {
       "metadata": {},
       "output_type": "display_data",
       "png": "[encoded data removed]",
       "text": [
        "<matplotlib.figure.Figure at 0x109ed01d0>"
       ]
      }
     ],
     "prompt_number": 690
    },
    {
     "cell_type": "code",
     "collapsed": false,
     "input": [
      "# for i in np.unique(df.cluster):\n",
      "#     plt.hist(df.vibescore[df.cluster == i], bins=np.arange(df.vibescore.min(), df.vibescore.max()+.1, .1), log=True, label=l[i])\n",
      "# plt.legend()\n",
      "# remove_border()"
     ],
     "language": "python",
     "metadata": {},
     "outputs": [],
     "prompt_number": 691
    },
    {
     "cell_type": "code",
     "collapsed": false,
     "input": [
      "# plt.scatter(df.vibescore, df.cluster, s=20, lw = 1, edgecolor='w', facecolor=dark2_colors[6])\n",
      "# plt.xlim(df.vibescore.min()-.1, df.vibescore.max()+.1)\n",
      "# plt.ylim(df.cluster.min()-.1, df.cluster.max()+.1)\n",
      "# plt.ylabel('cluster')\n",
      "# plt.xlabel('vibescore')\n",
      "# remove_border()"
     ],
     "language": "python",
     "metadata": {},
     "outputs": [],
     "prompt_number": 692
    },
    {
     "cell_type": "code",
     "collapsed": false,
     "input": [
      "# d = 'sound'\n",
      "# plt.scatter(df[d], df.vibescore, s=20, lw = 1, edgecolor='w', facecolor=dark2_colors[6])\n",
      "# plt.ylim(df.vibescore.min(), df.vibescore.max())\n",
      "# plt.xlim(df[d].min()-.1, df[d].max()+.1)\n",
      "# plt.ylabel('vibescore')\n",
      "# plt.xlabel(d)\n",
      "# remove_border()"
     ],
     "language": "python",
     "metadata": {},
     "outputs": [],
     "prompt_number": 693
    },
    {
     "cell_type": "code",
     "collapsed": false,
     "input": [
      "X = []\n",
      "Y = []\n",
      "\n",
      "for i, r in df.iterrows():\n",
      "    X.append([r['temp'], r['motion'], r['sound']])\n",
      "    Y.append(r['cluster'])\n",
      "    \n",
      "X_train, X_test, Y_train, Y_test = sklearn.cross_validation.train_test_split(X, Y, test_size=0.25, random_state=42)\n"
     ],
     "language": "python",
     "metadata": {},
     "outputs": [],
     "prompt_number": 694
    },
    {
     "cell_type": "code",
     "collapsed": false,
     "input": [
      "clf_logreg = sklearn.linear_model.LogisticRegression(C=1e5)\n",
      "clf_logreg.fit(X_train, Y_train)\n",
      "print clf_logreg.score(X_test, Y_test)\n",
      "# print\n",
      "# print clf_logreg.coef_\n",
      "# print\n",
      "# print clf_logreg.get_params()"
     ],
     "language": "python",
     "metadata": {},
     "outputs": [
      {
       "output_type": "stream",
       "stream": "stdout",
       "text": [
        "0.7752\n"
       ]
      }
     ],
     "prompt_number": 695
    },
    {
     "cell_type": "code",
     "collapsed": false,
     "input": [],
     "language": "python",
     "metadata": {},
     "outputs": [],
     "prompt_number": 600
    },
    {
     "cell_type": "code",
     "collapsed": false,
     "input": [],
     "language": "python",
     "metadata": {},
     "outputs": []
    }
   ],
   "metadata": {}
  }
 ]
}